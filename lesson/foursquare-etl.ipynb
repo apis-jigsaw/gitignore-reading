{
 "cells": [
  {
   "cell_type": "markdown",
   "metadata": {},
   "source": [
    "# Working with a GitIgnore"
   ]
  },
  {
   "cell_type": "markdown",
   "metadata": {},
   "source": [
    "### Introduction"
   ]
  },
  {
   "cell_type": "markdown",
   "metadata": {},
   "source": [
    "So far when we have made commits to a codebase, we have always wanted to save our changes in a git commit, and then push that commit to github.  But there are some cases where we may not want to add our code.  For example, if we have a file that has secret API keys or database passwords, it may be best not to push up that information to github. \n",
    "\n",
    "If we want to exclude certain files from our git repository, this is a case for a .gitignore file.  In this lesson, we'll see this in action."
   ]
  },
  {
   "cell_type": "markdown",
   "metadata": {},
   "source": [
    "## Removing our sensitive info"
   ]
  },
  {
   "cell_type": "markdown",
   "metadata": {},
   "source": [
    "Imagine that we currently have a `Client` class, that makes a request to the foursquare api, and that in that client class is our api authentication info like the `CLIENT_ID` and `CLIENT_SECRET`."
   ]
  },
  {
   "cell_type": "markdown",
   "metadata": {},
   "source": [
    "```python\n",
    "import requests\n",
    "\n",
    "class Client:\n",
    "    CLIENT_ID=\"ALECV5CBBEHRRKTIQ5ZV143YEXOH3SBLAMU54SPHKGZI1ZKE\"\n",
    "    CLIENT_SECRET=\"3JX3NRGRS2P0KE0NSKPTMCOZOY4MWUU4M3G33BO4XTRJ15SM\"\n",
    "    DATE=20190407\n",
    "    URL = \"https://api.foursquare.com/v2/venues/search\"\n",
    "    SHOW_URL = \"https://api.foursquare.com/v2/venues\"\n",
    "\n",
    "    def auth_params(self):\n",
    "        return {'client_id': self.CLIENT_ID,\n",
    "                   'client_secret': self.CLIENT_SECRET,\n",
    "                   'v': self.DATE}\n",
    "\n",
    "    def full_params(self, query_params = {'ll': \"40.7,-74\", \"query\": \"tacos\"}):\n",
    "        params = self.auth_params().copy()\n",
    "        params.update(query_params)\n",
    "        return params\n",
    "\n",
    "    def request_venues(self, query_params = {'ll': \"40.7,-74\", \"query\": \"tacos\"}):\n",
    "        response = requests.get(self.URL, self.full_params(query_params))\n",
    "        return response.json()['response']['venues']\n",
    "```"
   ]
  },
  {
   "cell_type": "markdown",
   "metadata": {},
   "source": [
    "Now this current code, will work as it is."
   ]
  },
  {
   "cell_type": "markdown",
   "metadata": {},
   "source": [
    "```bash\n",
    "python3 -i client.py\n",
    ">>> venues = Client().request_venues()\n",
    "```"
   ]
  },
  {
   "cell_type": "markdown",
   "metadata": {},
   "source": [
    "However, as a good practice, let's move the CLIENT_ID and CLIENT_SECRET to a `.env` file.  "
   ]
  },
  {
   "cell_type": "markdown",
   "metadata": {},
   "source": [
    "`.env file`\n",
    "```bash\n",
    "DB_NAME=foursquare_development\n",
    "DB_USER=postgres\n",
    "TEST_DB_NAME=foursquare_test\n",
    "TEST_DB_USER=postgres\n",
    "CLIENT_ID=ALECV5CBBEHRRKTIQ5ZV143YEXOH3SBLAMU54SPHKGZI1ZKE\n",
    "CLIENT_SECRET=3JX3NRGRS2P0KE0NSKPTMCOZOY4MWUU4M3G33BO4XTRJ15SM\n",
    "DATE=20190407\n",
    "```"
   ]
  },
  {
   "cell_type": "markdown",
   "metadata": {},
   "source": [
    "We have already placed the `settings.py` file in there for you.  So now all, we need to do is import the appropriate variable from `settings` and update the `client.py` file to the following."
   ]
  },
  {
   "cell_type": "markdown",
   "metadata": {},
   "source": [
    "```python\n",
    "import requests\n",
    "from settings import CLIENT_ID, CLIENT_SECRET, DATE\n",
    "class Client:\n",
    "    CLIENT_ID=CLIENT_ID\n",
    "    CLIENT_SECRET=CLIENT_SECRET\n",
    "    DATE=DATE\n",
    "    URL = \"https://api.foursquare.com/v2/venues/search\"\n",
    "    SHOW_URL = \"https://api.foursquare.com/v2/venues\"\n",
    "    \n",
    "    # keep the rest as is\n",
    "```"
   ]
  },
  {
   "cell_type": "markdown",
   "metadata": {},
   "source": [
    "And we can again confirm that this works."
   ]
  },
  {
   "cell_type": "markdown",
   "metadata": {},
   "source": [
    "```bash\n",
    "python3 -i client.py\n",
    ">>> venues = Client().request_venues()\n",
    "```"
   ]
  },
  {
   "cell_type": "markdown",
   "metadata": {},
   "source": [
    "### Adding the .gitignore file"
   ]
  },
  {
   "cell_type": "markdown",
   "metadata": {},
   "source": [
    "Now if we type in `git status`, we'll notice that it's currently aware of the `.env` file."
   ]
  },
  {
   "cell_type": "markdown",
   "metadata": {},
   "source": [
    "```bash\n",
    "git status\n",
    "```"
   ]
  },
  {
   "cell_type": "markdown",
   "metadata": {},
   "source": [
    "```bash\n",
    "On branch solution\n",
    "Your branch is ahead of 'origin/solution' by 1 commit.\n",
    "  (use \"git push\" to publish your local commits)\n",
    "\n",
    "Untracked files:\n",
    "  (use \"git add <file>...\" to include in what will be committed)\n",
    "\t.env\n",
    "```"
   ]
  },
  {
   "cell_type": "markdown",
   "metadata": {},
   "source": [
    "So next it's time to add the `.gitignore` file, and tell git to ignore our `.env` file. \n",
    "\n",
    "> Why don't we want to include the .env file?  Well the .env file could contain sensitive information that we don't others who access our repository on github to see.  Or the .env file may also contain information particular to our computer (like a database or username), that just doesn't apply to someone else who uses the codebase."
   ]
  },
  {
   "cell_type": "markdown",
   "metadata": {},
   "source": [
    "Ok, creating a .gitignore file so is pretty straightforward.  First, create a file called `.gitignore`."
   ]
  },
  {
   "cell_type": "markdown",
   "metadata": {},
   "source": [
    "```bash\n",
    "touch .gitignore \n",
    "```"
   ]
  },
  {
   "cell_type": "markdown",
   "metadata": {},
   "source": [
    "And then we can tell git to ignore the .env file by adding that to the top of the file."
   ]
  },
  {
   "cell_type": "markdown",
   "metadata": {},
   "source": [
    "> <img src=\"./env-file.png\" width=\"60%\">"
   ]
  },
  {
   "cell_type": "markdown",
   "metadata": {},
   "source": [
    "Now notice what happens if we retype git status."
   ]
  },
  {
   "cell_type": "code",
   "execution_count": null,
   "metadata": {},
   "outputs": [],
   "source": []
  }
 ],
 "metadata": {
  "kernelspec": {
   "display_name": "Python 3 (ipykernel)",
   "language": "python",
   "name": "python3"
  },
  "language_info": {
   "codemirror_mode": {
    "name": "ipython",
    "version": 3
   },
   "file_extension": ".py",
   "mimetype": "text/x-python",
   "name": "python",
   "nbconvert_exporter": "python",
   "pygments_lexer": "ipython3",
   "version": "3.10.6"
  }
 },
 "nbformat": 4,
 "nbformat_minor": 4
}
